{
 "metadata": {
  "name": "",
  "signature": "sha256:c359326066f252b61e56e64e4fc35bf958151e6d40907b84b16a8b76b198a779"
 },
 "nbformat": 3,
 "nbformat_minor": 0,
 "worksheets": [
  {
   "cells": [
    {
     "cell_type": "heading",
     "level": 1,
     "metadata": {},
     "source": [
      "Least Squares Fit"
     ]
    },
    {
     "cell_type": "heading",
     "level": 2,
     "metadata": {},
     "source": [
      "1) Without uncertainties"
     ]
    },
    {
     "cell_type": "markdown",
     "metadata": {},
     "source": [
      "This code uses the expressions we derived in lecture to fit data to a straight line and determine the slope and intercept.\n",
      "\n",
      "\n",
      "The expressions are:\n",
      "\n",
      "1) Slope: $B=\\frac{\\sum (x_i- <x>)y_i}{\\sum(x_i- <x>)x_i}$\n",
      "\n",
      "2) Intercept: $A=<y>-B<x>$\n",
      "\n",
      "Where $<x>$ denotes the average of all the x values and $<y>$ denotes the average of all the y values.\n",
      "\n",
      "These are easily computed in Python: $<x>$=x.mean(x) and $<y>$=y.mean()\n",
      "\n",
      "First we plot the data (taken from the ideal gas law experiment)"
     ]
    },
    {
     "cell_type": "code",
     "collapsed": false,
     "input": [
      "import numpy as np\n",
      "import matplotlib as mpl\n",
      "import matplotlib.pyplot as plt\n",
      "\n",
      "def LineFit(x, y):\n",
      "    '''Returns slope and y-intercept of linear fit to (x,y) data set'''\n",
      "    xavg = x.mean()\n",
      "    B = (y*(x-xavg)).sum()/(x*(x-xavg)).sum() % slope\n",
      "    A = y.mean()-slope*xavg    % intercept\n",
      "    return B, A\n",
      "\n",
      "x = np.array([100., 75., 50., 20., 0., -80., -210.])\n",
      "y = np.array([19.5, 18.0, 16.1, 14.8, 12.5, 10., 3.9])\n",
      "\n",
      "plt.plot(x,y,'o')\n",
      "plt.xlabel(\"T (C)\", fontsize=18)\n",
      "plt.ylabel(\"P (lb/in$^2$)\", fontsize=18)\n",
      "plt.axis([-300,100,0,20])\n",
      "plt.show()"
     ],
     "language": "python",
     "metadata": {},
     "outputs": [
      {
       "metadata": {},
       "output_type": "display_data",
       "png": "[encoded data removed]",
       "text": [
        "<matplotlib.figure.Figure at 0x10ad26490>"
       ]
      }
     ],
     "prompt_number": 2
    },
    {
     "cell_type": "markdown",
     "metadata": {},
     "source": [
      "Now we plot the data along with the linear fit."
     ]
    },
    {
     "cell_type": "code",
     "collapsed": false,
     "input": [
      "import numpy as np\n",
      "import matplotlib as mpl\n",
      "import matplotlib.pyplot as plt\n",
      "\n",
      "def LineFit(x, y):\n",
      "    '''Returns slope and y-intercept of linear fit to (x,y) data set'''\n",
      "    xavg = x.mean()\n",
      "    B = (y*(x-xavg)).sum()/(x*(x-xavg)).sum() # slope\n",
      "    A = y.mean()-B*xavg    # intercept\n",
      "    return B, A\n",
      "\n",
      "x = np.array([100., 75., 50., 20., 0., -80., -210.])\n",
      "y = np.array([19.5, 18.0, 16.1, 14.8, 12.5, 10., 3.9])\n",
      "\n",
      "B,A = LineFit(x,y)\n",
      "xfit = np.arange(-300.0,100.0,1)\n",
      "yfit = A + B*xfit\n",
      "\n",
      "plt.plot(x,y,'o')\n",
      "plt.plot(xfit, yfit,'b-',label=\"Linear fit\")\n",
      "plt.xlabel(\"T (C)\", fontsize=18)\n",
      "plt.ylabel(\"P (lb/in$^2$)\", fontsize=18)\n",
      "plt.axis([-300,100,0,20])\n",
      "\n",
      "plt.show()"
     ],
     "language": "python",
     "metadata": {},
     "outputs": [
      {
       "metadata": {},
       "output_type": "display_data",
       "png": "[encoded data removed]",
       "text": [
        "<matplotlib.figure.Figure at 0x10ac20d50>"
       ]
      }
     ],
     "prompt_number": 1
    },
    {
     "cell_type": "heading",
     "level": 2,
     "metadata": {},
     "source": [
      "With uncertainties"
     ]
    },
    {
     "cell_type": "markdown",
     "metadata": {},
     "source": [
      "The following code shows how to include uncertainties in the data first in determining the slope and intercept of the fit.\n",
      "\n",
      "The expressions for the intercept and slope are:\n",
      "\n",
      "1) Slope: $B=\\frac{\\sum (x_i- <x>)y_i/\\sigma_i^2}{\\sum(x_i- <x>)x_i/\\sigma_i^2}$\n",
      "Where $\\sigma_i$ is the uncertainty in the data point $y_i$.\n",
      "\n",
      "2) Intercept: $A=<y>-B<x>$\n",
      "\n",
      "The LineFit function also shows how uncertainties in the data propagate into uncertainties in the slope and\n",
      "intercept, denoted sb and sa.\n",
      "\n",
      "The expressions for the uncertainties in the slope and intercept are given by the expressions for the propagation \n",
      "of errors:\n",
      "\n",
      "3) The uncertainty in the slope is given by:\n",
      "\n",
      "$\\sigma_B^2=\\sum (\\frac{\\partial B}{\\partial y_i})^2 \\sigma_i^2$\n",
      "\n",
      "4) The uncertainty in the intercept is given by:\n",
      "\n",
      "$\\sigma_A^2=\\sum (\\frac{\\partial A}{\\partial y_i})^2 \\sigma_i^2$\n",
      "\n",
      "Convince yourselves that this code implements functions!\n",
      "\n",
      "Finally, the code shows how errors in the slope and intercept translate into uncertainties in Boltzmann's constant from the pressure versus temperature data. Note a translation is required because there are uncertainties in the pressure (not the temperature). The initial uncertainty is thus in the slope of temperature vs. pressure (not the pressure versus temperature). These needs to be translated into an uncertainty in the slope of pressure vs. temperature, since Boltzmann's constant is related directly to this slope (not its inverse),"
     ]
    },
    {
     "cell_type": "code",
     "collapsed": false,
     "input": [
      "import numpy as np\n",
      "import matplotlib as mpl\n",
      "import matplotlib.pyplot as plt\n",
      "\n",
      "T = np.array([100., 75., 50., 20., 0., -80., -210.])\n",
      "P = np.array([19.5, 18.0, 16.1, 14.8, 12.5, 10., 3.9])\n",
      "PE = np.array([1.2, .3, .3, .5, 1., .6, .5])\n",
      "\n",
      "def LineFit(x,y,err):\n",
      "    err2 = err**2\n",
      "    norm = (1./err2).sum()\n",
      "    def hat(x):\n",
      "        return (x/err2).sum()/norm\n",
      "    xhat = hat(x)\n",
      "    yhat = hat(y)\n",
      "    diff = (x-xhat)\n",
      "    b = (diff*y/err2).sum()/(diff*x/err2).sum()\n",
      "    a = yhat - b*xhat\n",
      "    sb = np.sqrt(1./((diff)*x/err2).sum())\n",
      "    sa = np.sqrt(sb**2*(x**2/err2).sum()/norm)\n",
      "    return a,b,sa,sb\n",
      "\n",
      "b,m,berr,merr = LineFit(T, P, PE)\n",
      "\n",
      "x = np.arange(-300.0,100.0,1)\n",
      "y = m*x+b\n",
      "\n",
      "plt.plot(x, y,'b-',label=\"Linear fit\")\n",
      "plt.plot(T,P,'o')\n",
      "plt.errorbar(T,P,yerr=PE, fmt='ro',label=\"data\", ecolor='black')\n",
      "plt.xlabel(\"T (C)\", fontsize=18)\n",
      "plt.ylabel(\"P (lb/in$^2$)\", fontsize=18)\n",
      "plt.axis([-300,100,0,20])\n",
      "\n",
      "plt.show()\n",
      "\n",
      "print('Slope = {0:4.4f} +/- {1:4.4f} lb/(in^2 K)'.format(m,merr))\n",
      "print('Intercept {0:4.4f} +/- {1:4.4f} lb/in^2'.format(b,berr))\n",
      "print('=================================')\n",
      "print('Absolute zero = {0:4.4f} +/- {1:4.4f} C'.format(-b/m, np.sqrt((berr/b)**2+(merr/m)**2)*np.abs(-b/m)))\n",
      "print('=================================')     \n",
      "\n",
      "def f(x):\n",
      "    return m*x+b\n",
      "chi2 = (((P-f(T))/PE)**2).sum()\n",
      "print('Chi= {0:4.4f}'.format(chi2/5))\n",
      "print('=================================')  \n",
      "k_b = m*6895*4.65173*10**(-26)/(1.3)\n",
      "k_b_err = (merr/m)*(k_b)\n",
      "print('k_b = {0:4.4e} +/- {1:4.4e} J/K'.format(k_b,k_b_err))\n",
      "print('=================================')  "
     ],
     "language": "python",
     "metadata": {},
     "outputs": [
      {
       "metadata": {},
       "output_type": "display_data",
       "png": "[encoded data removed]",
       "text": [
        "<matplotlib.figure.Figure at 0x10baf1350>"
       ]
      },
      {
       "output_type": "stream",
       "stream": "stdout",
       "text": [
        "Slope = 0.0489 +/- 0.0019 lb/(in^2 K)\n",
        "Intercept 13.9563 +/- 0.1717 lb/in^2\n",
        "=================================\n",
        "Absolute zero = -285.1682 +/- 11.4380 C\n",
        "=================================\n",
        "Chi= 1.0514\n",
        "=================================\n",
        "k_b = 1.2075e-23 +/- 4.6097e-25 J/K\n",
        "=================================\n"
       ]
      }
     ],
     "prompt_number": 26
    }
   ],
   "metadata": {}
  }
 ]
}